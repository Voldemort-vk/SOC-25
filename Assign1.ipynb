{
  "nbformat": 4,
  "nbformat_minor": 0,
  "metadata": {
    "colab": {
      "provenance": [],
      "authorship_tag": "ABX9TyNLudwL5mFjh/AvlpI7RnqW",
      "include_colab_link": true
    },
    "kernelspec": {
      "name": "python3",
      "display_name": "Python 3"
    },
    "language_info": {
      "name": "python"
    }
  },
  "cells": [
    {
      "cell_type": "markdown",
      "metadata": {
        "id": "view-in-github",
        "colab_type": "text"
      },
      "source": [
        "<a href=\"https://colab.research.google.com/github/Voldemort-vk/SOC-25/blob/main/Assign1.ipynb\" target=\"_parent\"><img src=\"https://colab.research.google.com/assets/colab-badge.svg\" alt=\"Open In Colab\"/></a>"
      ]
    },
    {
      "cell_type": "code",
      "execution_count": null,
      "metadata": {
        "id": "qYOcn3eAvt3U"
      },
      "outputs": [],
      "source": [
        "import numpy as np\n",
        "from tensorflow.keras.models import Sequential\n",
        "from tensorflow.keras.layers import Conv2D, MaxPooling2D, Dense, Flatten"
      ]
    },
    {
      "cell_type": "code",
      "source": [
        "from google.colab import files\n",
        "uploaded = files.upload()"
      ],
      "metadata": {
        "id": "QFGt3H0Y3bj-"
      },
      "execution_count": null,
      "outputs": []
    },
    {
      "cell_type": "code",
      "source": [
        "import io\n",
        "import numpy as np\n",
        "import matplotlib.pyplot as plt\n",
        "import random"
      ],
      "metadata": {
        "id": "P45IWmCv_Ysx"
      },
      "execution_count": null,
      "outputs": []
    },
    {
      "cell_type": "code",
      "source": [
        "x_train = np.loadtxt(io.BytesIO(uploaded['mnist_train.csv']),delimiter=',')\n",
        "mnist_tn = x_train[:,1:] # mnist_tn contains the 784 pixels of each 60000 training images\n",
        "y_train = x_train[:,0].T # y_train contains labels of training dataset\n",
        "x_test = np.loadtxt(io.BytesIO(uploaded['mnist_test.csv']),delimiter=',')\n",
        "y_test = x_test[:,0].T  # y_test contains labels of training dataset\n",
        "mnist_ts = x_test[:,1:]  # mnist_ts contains the 784 pixels of each 10000 training images"
      ],
      "metadata": {
        "id": "EWWRwV5G_kgK"
      },
      "execution_count": null,
      "outputs": []
    },
    {
      "cell_type": "code",
      "source": [
        "print(mnist_tn.shape)\n",
        "print(y_train.shape)\n",
        "print(mnist_ts.shape)\n",
        "print(y_test.shape)"
      ],
      "metadata": {
        "colab": {
          "base_uri": "https://localhost:8080/"
        },
        "id": "ypv-pfyvAl0x",
        "outputId": "3dce6f44-70c3-4437-acf9-e0b0ca6c985d"
      },
      "execution_count": null,
      "outputs": [
        {
          "output_type": "stream",
          "name": "stdout",
          "text": [
            "(60000, 784)\n",
            "(60000,)\n",
            "(10000, 784)\n",
            "(10000,)\n"
          ]
        }
      ]
    },
    {
      "cell_type": "code",
      "source": [
        "index = random.randrange(0,x_train.shape[1])\n",
        "plt.imshow(mnist_tn[index].reshape(28,28), cmap = 'gray')"
      ],
      "metadata": {
        "id": "vWx9RSNrDes-"
      },
      "execution_count": null,
      "outputs": []
    },
    {
      "cell_type": "code",
      "source": [
        "mnist_tn = mnist_tn.reshape(len(mnist_tn),28,28,1)\n",
        "y_train = y_train.reshape(len(y_train),1)\n",
        "mnist_ts = mnist_ts.reshape(len(mnist_ts),28,28,1)\n",
        "y_test = y_test.reshape(len(y_test),1)\n",
        "mnist_tn = mnist_tn/255.0\n",
        "mnist_ts = mnist_ts/255.0"
      ],
      "metadata": {
        "id": "oTm-Yt0XH-KB"
      },
      "execution_count": null,
      "outputs": []
    },
    {
      "cell_type": "code",
      "source": [
        "print(mnist_tn.shape)\n",
        "print(y_train.shape)\n",
        "print(mnist_ts.shape)\n",
        "print(y_test.shape)"
      ],
      "metadata": {
        "colab": {
          "base_uri": "https://localhost:8080/"
        },
        "id": "bLnwqOkkJzuZ",
        "outputId": "f23f14b1-b78f-41fb-a392-26b6299deba8"
      },
      "execution_count": null,
      "outputs": [
        {
          "output_type": "stream",
          "name": "stdout",
          "text": [
            "(60000, 28, 28, 1)\n",
            "(60000, 1)\n",
            "(10000, 28, 28, 1)\n",
            "(10000, 1)\n"
          ]
        }
      ]
    },
    {
      "cell_type": "code",
      "source": [
        "mnist_tn[0,:]"
      ],
      "metadata": {
        "id": "0a37oOXSJ7Ou"
      },
      "execution_count": null,
      "outputs": []
    },
    {
      "cell_type": "markdown",
      "source": [
        "#MODEL"
      ],
      "metadata": {
        "id": "_TV7hUbmNE5r"
      }
    },
    {
      "cell_type": "code",
      "source": [
        "model = Sequential([\n",
        "    Conv2D(32, (3,3), activation = 'relu', input_shape = (28, 28, 1)),\n",
        "    MaxPooling2D((2,2)),\n",
        "\n",
        "    Conv2D(64, (3,3), activation = 'relu'),\n",
        "    MaxPooling2D((2,2)),\n",
        "\n",
        "    Flatten(),\n",
        "    Dense(128, activation = 'relu'),\n",
        "    Dense(10, activation = 'softmax')\n",
        "])"
      ],
      "metadata": {
        "id": "pQYgrh_ZKcfd"
      },
      "execution_count": null,
      "outputs": []
    },
    {
      "cell_type": "code",
      "source": [
        "model.compile(loss = \"sparse_categorical_crossentropy\", optimizer = \"adam\", metrics = [\"accuracy\"])"
      ],
      "metadata": {
        "id": "XQaHedN8Qoga"
      },
      "execution_count": null,
      "outputs": []
    },
    {
      "cell_type": "code",
      "source": [
        "model.fit(mnist_tn, y_train, epochs = 5, batch_size = 100)"
      ],
      "metadata": {
        "colab": {
          "base_uri": "https://localhost:8080/"
        },
        "id": "tQa9lysjR-cY",
        "outputId": "0f202d54-76bb-4230-e969-d6aec191b144"
      },
      "execution_count": null,
      "outputs": [
        {
          "output_type": "stream",
          "name": "stdout",
          "text": [
            "Epoch 1/5\n",
            "\u001b[1m600/600\u001b[0m \u001b[32m━━━━━━━━━━━━━━━━━━━━\u001b[0m\u001b[37m\u001b[0m \u001b[1m47s\u001b[0m 79ms/step - accuracy: 0.9952 - loss: 0.0154\n",
            "Epoch 2/5\n",
            "\u001b[1m600/600\u001b[0m \u001b[32m━━━━━━━━━━━━━━━━━━━━\u001b[0m\u001b[37m\u001b[0m \u001b[1m81s\u001b[0m 77ms/step - accuracy: 0.9965 - loss: 0.0111\n",
            "Epoch 3/5\n",
            "\u001b[1m600/600\u001b[0m \u001b[32m━━━━━━━━━━━━━━━━━━━━\u001b[0m\u001b[37m\u001b[0m \u001b[1m83s\u001b[0m 79ms/step - accuracy: 0.9973 - loss: 0.0090\n",
            "Epoch 4/5\n",
            "\u001b[1m600/600\u001b[0m \u001b[32m━━━━━━━━━━━━━━━━━━━━\u001b[0m\u001b[37m\u001b[0m \u001b[1m80s\u001b[0m 76ms/step - accuracy: 0.9970 - loss: 0.0097\n",
            "Epoch 5/5\n",
            "\u001b[1m600/600\u001b[0m \u001b[32m━━━━━━━━━━━━━━━━━━━━\u001b[0m\u001b[37m\u001b[0m \u001b[1m83s\u001b[0m 79ms/step - accuracy: 0.9982 - loss: 0.0059\n"
          ]
        },
        {
          "output_type": "execute_result",
          "data": {
            "text/plain": [
              "<keras.src.callbacks.history.History at 0x79d8cd8467d0>"
            ]
          },
          "metadata": {},
          "execution_count": 81
        }
      ]
    },
    {
      "cell_type": "code",
      "source": [
        "model.evaluate(mnist_ts, y_test, batch_size = 1)"
      ],
      "metadata": {
        "colab": {
          "base_uri": "https://localhost:8080/"
        },
        "id": "yvL8QMTcV3xv",
        "outputId": "f91cd8af-58eb-41f2-8f28-3cd40332710f"
      },
      "execution_count": null,
      "outputs": [
        {
          "output_type": "stream",
          "name": "stdout",
          "text": [
            "\u001b[1m10000/10000\u001b[0m \u001b[32m━━━━━━━━━━━━━━━━━━━━\u001b[0m\u001b[37m\u001b[0m \u001b[1m28s\u001b[0m 3ms/step - accuracy: 0.9873 - loss: 0.0441\n"
          ]
        },
        {
          "output_type": "execute_result",
          "data": {
            "text/plain": [
              "[0.03020324930548668, 0.991599977016449]"
            ]
          },
          "metadata": {},
          "execution_count": 86
        }
      ]
    },
    {
      "cell_type": "code",
      "source": [
        "index = random.randrange(0,x_train.shape[1])\n",
        "\n",
        "#Below 5 lines are generated using ChatGPT 😢\n",
        "image = mnist_ts[index]\n",
        "true_label = y_test[index]\n",
        "\n",
        "prediction = model.predict(image.reshape(1,28,28,1))  # (1,28,28,1) here first 1 shows 1 image is passed then 28 by 28 shows image size and final 1 shows only one colour grading as gray so 1\n",
        "predicted_label = float(np.argmax(prediction))\n",
        "\n",
        "plt.imshow(image.reshape(28, 28), cmap='gray')\n",
        "print('Prediction: ', predicted_label)\n",
        "print('Actual: ', true_label[0])"
      ],
      "metadata": {
        "id": "9JOPJ8c6YLmV"
      },
      "execution_count": null,
      "outputs": []
    }
  ]
}