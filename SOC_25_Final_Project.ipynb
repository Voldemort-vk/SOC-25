{
  "nbformat": 4,
  "nbformat_minor": 0,
  "metadata": {
    "colab": {
      "provenance": [],
      "authorship_tag": "ABX9TyPlonqVvp7zcmBbBK8CGwwD",
      "include_colab_link": true
    },
    "kernelspec": {
      "name": "python3",
      "display_name": "Python 3"
    },
    "language_info": {
      "name": "python"
    }
  },
  "cells": [
    {
      "cell_type": "markdown",
      "metadata": {
        "id": "view-in-github",
        "colab_type": "text"
      },
      "source": [
        "<a href=\"https://colab.research.google.com/github/Voldemort-vk/SOC-25/blob/main/SOC_25_Final_Project.ipynb\" target=\"_parent\"><img src=\"https://colab.research.google.com/assets/colab-badge.svg\" alt=\"Open In Colab\"/></a>"
      ]
    },
    {
      "cell_type": "markdown",
      "source": [
        "# Loading Datasets"
      ],
      "metadata": {
        "id": "iMB3PkuYsxkE"
      }
    },
    {
      "cell_type": "code",
      "execution_count": null,
      "metadata": {
        "id": "u4ZBuMBFhUjx"
      },
      "outputs": [],
      "source": [
        "!pip install \"deeplake<4\""
      ]
    },
    {
      "cell_type": "code",
      "source": [
        "import deeplake\n",
        "train_set = deeplake.load('hub://activeloop/fer2013-train')\n",
        "public_test_set = deeplake.load('hub://activeloop/fer2013-public-test')\n",
        "private_test_set = deeplake.load('hub://activeloop/fer2013-private-test')"
      ],
      "metadata": {
        "id": "3_AqF2amlgpQ"
      },
      "execution_count": null,
      "outputs": []
    },
    {
      "cell_type": "code",
      "source": [
        "len(train_set)"
      ],
      "metadata": {
        "colab": {
          "base_uri": "https://localhost:8080/"
        },
        "id": "B4GH8Ilenf_C",
        "outputId": "48a7b3f7-ea0c-4659-93f5-f2092db09cdc"
      },
      "execution_count": 3,
      "outputs": [
        {
          "output_type": "execute_result",
          "data": {
            "text/plain": [
              "28709"
            ]
          },
          "metadata": {},
          "execution_count": 3
        }
      ]
    },
    {
      "cell_type": "code",
      "source": [
        "len(public_test_set)"
      ],
      "metadata": {
        "colab": {
          "base_uri": "https://localhost:8080/"
        },
        "id": "2m4B7gs3o396",
        "outputId": "268f5f31-9734-4bad-8f14-967d86d7a244"
      },
      "execution_count": 4,
      "outputs": [
        {
          "output_type": "execute_result",
          "data": {
            "text/plain": [
              "3589"
            ]
          },
          "metadata": {},
          "execution_count": 4
        }
      ]
    },
    {
      "cell_type": "code",
      "source": [
        "len(private_test_set)"
      ],
      "metadata": {
        "colab": {
          "base_uri": "https://localhost:8080/"
        },
        "id": "D5bhtqclo6b6",
        "outputId": "5f2bbd57-40f5-421b-9e24-0eccf7b1fe23"
      },
      "execution_count": 5,
      "outputs": [
        {
          "output_type": "execute_result",
          "data": {
            "text/plain": [
              "3589"
            ]
          },
          "metadata": {},
          "execution_count": 5
        }
      ]
    },
    {
      "cell_type": "markdown",
      "source": [
        "# Importing Libraries"
      ],
      "metadata": {
        "id": "nyWS11XHtBbE"
      }
    },
    {
      "cell_type": "code",
      "source": [
        "import numpy as np\n",
        "import matplotlib.pyplot as plt\n",
        "import random\n",
        "from tensorflow.keras.models import Sequential\n",
        "from tensorflow.keras.layers import Conv2D, MaxPooling2D, Dense, Flatten, Dropout"
      ],
      "metadata": {
        "id": "sktnGzQso-BD"
      },
      "execution_count": 6,
      "outputs": []
    },
    {
      "cell_type": "code",
      "source": [
        "train_set[0]"
      ],
      "metadata": {
        "id": "CrT12zL5pYQ3"
      },
      "execution_count": null,
      "outputs": []
    },
    {
      "cell_type": "code",
      "source": [
        "train_set_images = train_set['images'].numpy()\n",
        "train_set_label = train_set['labels'].numpy()\n",
        "public_test_set_images = (public_test_set['images'].numpy().astype(np.float32)/(255.0)).reshape(len(public_test_set), 48, 48, 1)\n",
        "public_test_set_label = public_test_set['labels'].numpy()\n",
        "private_test_set_images = (private_test_set['images'].numpy().astype(np.float32)/(255.0)).reshape(len(private_test_set), 48, 48, 1)\n",
        "private_test_set_label = private_test_set['labels'].numpy()"
      ],
      "metadata": {
        "id": "rrSkoNZRTD_M"
      },
      "execution_count": 8,
      "outputs": []
    },
    {
      "cell_type": "code",
      "source": [
        "expressions = ['Angry', 'Disgust', 'Fear', 'Happy', 'Sad', 'Surprise', 'Neutral']"
      ],
      "metadata": {
        "id": "fSQ6LW-7SWMH"
      },
      "execution_count": 9,
      "outputs": []
    },
    {
      "cell_type": "code",
      "source": [
        "index = np.random.randint(0, len(train_set))\n",
        "image = train_set_images[index]\n",
        "label = train_set_label[index][0]\n",
        "plt.imshow(image, cmap = 'gray')\n",
        "print('Label: ', label)\n",
        "print('Expression: ', expressions[label])"
      ],
      "metadata": {
        "id": "iwArxLB8T29l"
      },
      "execution_count": null,
      "outputs": []
    },
    {
      "cell_type": "markdown",
      "source": [
        "# Splitting the training dataset into train, validation, and test sets\n",
        "(also normalizing the pixel values to the range [0, 1])"
      ],
      "metadata": {
        "id": "sBZ1CW0NtWDU"
      }
    },
    {
      "cell_type": "code",
      "source": [
        "idxs = np.random.permutation(len(train_set))"
      ],
      "metadata": {
        "id": "UokPn1_YQcYc"
      },
      "execution_count": 14,
      "outputs": []
    },
    {
      "cell_type": "code",
      "source": [
        "#len(train_set) = 28709\n",
        "#Validation = 2871\n",
        "#Test = 2871\n",
        "#Train = 22967"
      ],
      "metadata": {
        "id": "YysjbDkQXcTo"
      },
      "execution_count": 15,
      "outputs": []
    },
    {
      "cell_type": "code",
      "source": [
        "validation_idx = idxs[:2871]\n",
        "test_idx = idxs[2871:5742]\n",
        "train_idx = idxs[5742:]"
      ],
      "metadata": {
        "id": "mPJ8gPjAYQMo"
      },
      "execution_count": 16,
      "outputs": []
    },
    {
      "cell_type": "code",
      "source": [
        "Validation_image = (train_set_images[validation_idx].astype(np.float32)/(255.0)).reshape(len(validation_idx), 48, 48, 1)\n",
        "Validation_label = train_set_label[validation_idx]\n",
        "Test_image = (train_set_images[test_idx].astype(np.float32)/(255.0)).reshape(len(test_idx), 48, 48, 1)\n",
        "Test_label = train_set_label[test_idx]\n",
        "Train_image = (train_set_images[train_idx].astype(np.float32)/(255.0)).reshape(len(train_idx), 48, 48, 1)\n",
        "Train_label = train_set_label[train_idx]"
      ],
      "metadata": {
        "id": "ujLn3BWjYotp"
      },
      "execution_count": 17,
      "outputs": []
    },
    {
      "cell_type": "markdown",
      "source": [
        "# Validation set images\n"
      ],
      "metadata": {
        "id": "qjyap25wuY6D"
      }
    },
    {
      "cell_type": "code",
      "source": [
        "index = np.random.randint(0, len(validation_idx))\n",
        "image = Validation_image[index]\n",
        "label = Validation_label[index][0]\n",
        "plt.imshow(image, cmap = 'gray')\n",
        "print('Label: ', label)\n",
        "print('Expression: ', expressions[label])"
      ],
      "metadata": {
        "id": "zlKEuL0vZpvx"
      },
      "execution_count": null,
      "outputs": []
    },
    {
      "cell_type": "markdown",
      "source": [
        "# Test set images\n"
      ],
      "metadata": {
        "id": "TaNaNBxDueI9"
      }
    },
    {
      "cell_type": "code",
      "source": [
        "index = np.random.randint(0, len(test_idx))\n",
        "image = Test_image[index]\n",
        "label = Test_label[index][0]\n",
        "plt.imshow(image, cmap = 'gray')\n",
        "print('Label: ', label)\n",
        "print('Expression: ', expressions[label])"
      ],
      "metadata": {
        "id": "_Nz6Mt2TZ85J"
      },
      "execution_count": null,
      "outputs": []
    },
    {
      "cell_type": "markdown",
      "source": [
        "# Train set images"
      ],
      "metadata": {
        "id": "llUt1lRTuhlf"
      }
    },
    {
      "cell_type": "code",
      "source": [
        "index = np.random.randint(0, len(train_idx))\n",
        "image = Train_image[index]\n",
        "label = Train_label[index][0]\n",
        "plt.imshow(image, cmap = 'gray')\n",
        "print('Label: ', label)\n",
        "print('Expression: ', expressions[label])"
      ],
      "metadata": {
        "collapsed": true,
        "id": "HrQ8iQDdaD6F"
      },
      "execution_count": null,
      "outputs": []
    },
    {
      "cell_type": "markdown",
      "source": [
        "#Model\n"
      ],
      "metadata": {
        "id": "IddAa38ub0c6"
      }
    },
    {
      "cell_type": "code",
      "source": [
        "model = Sequential([\n",
        "    Conv2D(32, (3, 3),  input_shape = (48, 48, 1), activation = 'relu', padding = 'same'),\n",
        "    MaxPooling2D((2, 2)),\n",
        "    Dropout(0.2),\n",
        "\n",
        "    Conv2D(64, (3, 3), activation = 'relu', padding = 'same'),\n",
        "    MaxPooling2D((2, 2)),\n",
        "    Dropout(0.2),\n",
        "\n",
        "    Conv2D(128, (3, 3), activation = 'relu', padding = 'same'),\n",
        "    MaxPooling2D((2, 2)),\n",
        "    Dropout(0.2),\n",
        "\n",
        "    Flatten(),\n",
        "    Dense(128, activation = 'relu'),\n",
        "    Dense(7, activation = 'softmax')\n",
        "])"
      ],
      "metadata": {
        "id": "mKQS3OuvbzkU",
        "collapsed": true
      },
      "execution_count": null,
      "outputs": []
    },
    {
      "cell_type": "code",
      "source": [
        "model.compile(loss = \"sparse_categorical_crossentropy\", optimizer = \"adam\", metrics = [\"accuracy\"])"
      ],
      "metadata": {
        "id": "37unL94ycrIS"
      },
      "execution_count": 22,
      "outputs": []
    },
    {
      "cell_type": "markdown",
      "source": [
        "# Training the model on our train set\n"
      ],
      "metadata": {
        "id": "h6JwmOTuu05j"
      }
    },
    {
      "cell_type": "code",
      "source": [
        "model.fit(Train_image, Train_label, epochs = 5, batch_size = 100)"
      ],
      "metadata": {
        "id": "d_YkXoDkcxGg"
      },
      "execution_count": null,
      "outputs": []
    },
    {
      "cell_type": "markdown",
      "source": [
        "# Evaluating the model on our Validation set"
      ],
      "metadata": {
        "id": "7_0mckaou5lB"
      }
    },
    {
      "cell_type": "code",
      "source": [
        "model.evaluate(Validation_image, Validation_label, batch_size = 1)"
      ],
      "metadata": {
        "id": "cXx1bA5QeR_L"
      },
      "execution_count": null,
      "outputs": []
    },
    {
      "cell_type": "markdown",
      "source": [
        "# Evaluating the model on our Test set"
      ],
      "metadata": {
        "id": "hDy4l9mYvAtR"
      }
    },
    {
      "cell_type": "code",
      "source": [
        "model.evaluate(Test_image, Test_label, batch_size = 1)"
      ],
      "metadata": {
        "id": "vn1zxuUreZ8z"
      },
      "execution_count": null,
      "outputs": []
    },
    {
      "cell_type": "markdown",
      "source": [
        "# Evaluating the model on the given public test set"
      ],
      "metadata": {
        "id": "eAZwpB-gvGrZ"
      }
    },
    {
      "cell_type": "code",
      "source": [
        "model.evaluate(public_test_set_images, public_test_set_label, batch_size = 1)"
      ],
      "metadata": {
        "id": "GahWcUZXWVib"
      },
      "execution_count": null,
      "outputs": []
    },
    {
      "cell_type": "markdown",
      "source": [
        "# Evaluating the model on the given private test set"
      ],
      "metadata": {
        "id": "cYENbsDevNvv"
      }
    },
    {
      "cell_type": "code",
      "source": [
        "model.evaluate(private_test_set_images, private_test_set_label, batch_size = 1)"
      ],
      "metadata": {
        "id": "jyl6QSdsqbXG"
      },
      "execution_count": null,
      "outputs": []
    },
    {
      "cell_type": "markdown",
      "source": [
        "# Comparing actual and predicted results on the given Public test set"
      ],
      "metadata": {
        "id": "WbKgMwfHvTcI"
      }
    },
    {
      "cell_type": "code",
      "source": [
        "index = np.random.randint(0, len(public_test_set))\n",
        "image = public_test_set_images[index].reshape(1, 48, 48, 1)\n",
        "actual_label = public_test_set_label[index]\n",
        "prediction = model.predict(image)\n",
        "predicted_label = (np.argmax(prediction))\n",
        "\n",
        "plt.imshow(image.reshape(48, 48, 1), cmap='gray')\n",
        "print('Actual Label: ', actual_label[0])\n",
        "print('Predicted Label: ', predicted_label)\n",
        "print('Actual Expression: ', expressions[actual_label[0]])\n",
        "print('Predicted Expression: ', expressions[predicted_label])"
      ],
      "metadata": {
        "id": "pqismYlkqs3B"
      },
      "execution_count": null,
      "outputs": []
    },
    {
      "cell_type": "markdown",
      "source": [
        "# Comparing actual and predicted results on the given Private test set"
      ],
      "metadata": {
        "id": "gF_ufL7Pvc36"
      }
    },
    {
      "cell_type": "code",
      "source": [
        "index = np.random.randint(0, len(public_test_set))\n",
        "image = private_test_set_images[index].reshape(1, 48, 48, 1)\n",
        "actual_label = private_test_set_label[index]\n",
        "prediction = model.predict(image)\n",
        "predicted_label = (np.argmax(prediction))\n",
        "\n",
        "plt.imshow(image.reshape(48, 48, 1), cmap='gray')\n",
        "print('Actual Label: ', actual_label[0])\n",
        "print('Predicted Label: ', predicted_label)\n",
        "print('Actual Expression: ', expressions[actual_label[0]])\n",
        "print('Predicted Expression: ', expressions[predicted_label])"
      ],
      "metadata": {
        "id": "aNEvdZ3OsgS1"
      },
      "execution_count": null,
      "outputs": []
    }
  ]
}